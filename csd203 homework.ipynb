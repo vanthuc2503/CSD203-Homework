{
 "cells": [
  {
   "cell_type": "code",
   "execution_count": 12,
   "id": "c370de60",
   "metadata": {},
   "outputs": [
    {
     "name": "stdout",
     "output_type": "stream",
     "text": [
      "Enter the element of the array: 3\n",
      "Enter a[0]: 1.2\n",
      "Enter a[1]: 4.5\n",
      "Enter a[2]: 9\n",
      "The average value of the array is 4.8999999999999995\n",
      "The positions of the elements which have values nearest to the average are 1\n"
     ]
    }
   ],
   "source": [
    "#Problem 1\n",
    "n = int(input(\"Enter the element of the array: \"))\n",
    "a = []\n",
    "\n",
    "for i in range(n):\n",
    "    a = a + [float(input(\"Enter a[%d]: \" %i))]\n",
    "\n",
    "s = 0\n",
    "for i in range(n):\n",
    "    s += a[i]\n",
    "\n",
    "aver = s/n\n",
    "print(f\"The average value of the array is {aver}\")\n",
    "\n",
    "result = []\n",
    "for i in range(n):\n",
    "    result.append(abs(a[i] - aver))\n",
    "\n",
    "positions = []\n",
    "for i in range(n):\n",
    "    if result[i] == min(result):\n",
    "        positions.append(str(i))\n",
    "\n",
    "position_str = \", \".join(positions)\n",
    "print(\"The positions of the elements which have values nearest to the average are\", position_str)"
   ]
  },
  {
   "cell_type": "code",
   "execution_count": 11,
   "id": "18786e12",
   "metadata": {},
   "outputs": [
    {
     "name": "stdout",
     "output_type": "stream",
     "text": [
      "Enter the grade in decimal system: 6.5\n",
      "the corresponding grade in alphabetic: D\n",
      "the corresponding grade in four system: 2.0\n"
     ]
    }
   ],
   "source": [
    "#Problem 2\n",
    "def convert_to_alphabetic(grade):\n",
    "    if grade >= 9:\n",
    "        return 'A'\n",
    "    elif 8 <= grade < 9:\n",
    "        return 'B'\n",
    "    elif 7 <= grade < 8:\n",
    "        return 'C'\n",
    "    elif 6 <= grade < 7:\n",
    "        return 'D'\n",
    "    else:\n",
    "        return 'F'\n",
    "\n",
    "def convert_to_four_system(grade):\n",
    "    if grade >= 9:\n",
    "        return 4.0\n",
    "    elif 8 <= grade < 9:\n",
    "        return 3.5\n",
    "    elif 7 <= grade < 8:\n",
    "        return 3.0\n",
    "    elif 6 <= grade < 7:\n",
    "        return 2.0\n",
    "    else:\n",
    "        return 0.0\n",
    "\n",
    "try:\n",
    "    n = float(input(\"Enter the grade in decimal system: \"))\n",
    "    if n >= 0 and n <= 10:\n",
    "        alphabetic = convert_to_alphabetic(n)\n",
    "        four_system = convert_to_four_system(n)\n",
    "        print(f\"the corresponding grade in alphabetic: {alphabetic}\")\n",
    "        print(f\"the corresponding grade in four system: {four_system}\")\n",
    "    else:\n",
    "        print(\"Grade must be from 0 to 10 !\")\n",
    "except ValueError:\n",
    "    print(\"Please enter a valid grade !\")"
   ]
  },
  {
   "cell_type": "code",
   "execution_count": 17,
   "id": "c8b5e52f",
   "metadata": {},
   "outputs": [
    {
     "name": "stdout",
     "output_type": "stream",
     "text": [
      "Enter the number of elements of array: 11\n",
      "a[0] = 6\n",
      "a[1] = 8\n",
      "a[2] = 5\n",
      "a[3] = 4\n",
      "a[4] = 6\n",
      "a[5] = 8\n",
      "a[6] = 9\n",
      "a[7] = 1\n",
      "a[8] = 4\n",
      "a[9] = 9\n",
      "a[10] = 12\n",
      "6 8 5 4 9 1 12\n"
     ]
    }
   ],
   "source": [
    "#Problem 3\n",
    "n = int(input(\"Enter the number of elements of array: \"))\n",
    "a = []\n",
    "\n",
    "for i in range(n):\n",
    "    a = a + [float(input(\"a[%d] = \" %i))]\n",
    "\n",
    "pattern_set = set()\n",
    "result = []\n",
    "\n",
    "for i in a:\n",
    "    if i not in pattern_set:\n",
    "        result.append(str(int(i)))\n",
    "        pattern_set.add(int(i))\n",
    "\n",
    "last_result = \" \".join(result)\n",
    "print(last_result)\n"
   ]
  },
  {
   "cell_type": "code",
   "execution_count": null,
   "id": "6044b3c0",
   "metadata": {},
   "outputs": [],
   "source": []
  }
 ],
 "metadata": {
  "kernelspec": {
   "display_name": "Python 3 (ipykernel)",
   "language": "python",
   "name": "python3"
  },
  "language_info": {
   "codemirror_mode": {
    "name": "ipython",
    "version": 3
   },
   "file_extension": ".py",
   "mimetype": "text/x-python",
   "name": "python",
   "nbconvert_exporter": "python",
   "pygments_lexer": "ipython3",
   "version": "3.11.5"
  }
 },
 "nbformat": 4,
 "nbformat_minor": 5
}
